{
 "cells": [
  {
   "cell_type": "code",
   "execution_count": 5,
   "metadata": {},
   "outputs": [
    {
     "name": "stdout",
     "output_type": "stream",
     "text": [
      "Data from all URLs saved to all_movies_data.csv\n"
     ]
    }
   ],
   "source": [
    "\"\"\"\n",
    "Name: Eric Mass\n",
    "Student Number: 24236422\n",
    "Dataset: Movie Records\n",
    "\"\"\"\n",
    "\n",
    "\n",
    "\n",
    "import requests\n",
    "from bs4 import BeautifulSoup\n",
    "import pandas as pd\n",
    "\n",
    "urls = [\n",
    "    \"http://mlg.ucd.ie/modules/COMP30760/assignment1/movies/1980s-page01.html\",\n",
    "    \"http://mlg.ucd.ie/modules/COMP30760/assignment1/movies/1990s-page01.html\",\n",
    "    \"http://mlg.ucd.ie/modules/COMP30760/assignment1/movies/2000s-page01.html\",\n",
    "    \"http://mlg.ucd.ie/modules/COMP30760/assignment1/movies/2010s-page01.html\"\n",
    "]\n",
    "\n",
    "all_movies = []\n",
    "for url in urls:\n",
    "    response = requests.get(url)\n",
    "\n",
    "    if response.status_code == 200:\n",
    "        soup = BeautifulSoup(response.content, 'html.parser')\n",
    "        for li in soup.find_all('li'):\n",
    "            movie = {}\n",
    "            movie['Name'] = li.find('span', class_='movie-title-year').get_text()\n",
    "            rows = li.find_all('tr')\n",
    "            \n",
    "            for row in rows:\n",
    "                field = row.find('td', class_='field').get_text(strip=True).replace(\":\", \"\")\n",
    "                value = row.find('td').find_next('td').get_text(strip=True)\n",
    "                movie[field] = value\n",
    "            \n",
    "            all_movies.append(movie)\n",
    "    else:\n",
    "        print(\"Didnt Work\")\n",
    "df = pd.DataFrame(all_movies)\n",
    "df.to_csv('all_movies_data.csv', index=False)\n"
   ]
  }
 ],
 "metadata": {
  "kernelspec": {
   "display_name": "base",
   "language": "python",
   "name": "python3"
  },
  "language_info": {
   "codemirror_mode": {
    "name": "ipython",
    "version": 3
   },
   "file_extension": ".py",
   "mimetype": "text/x-python",
   "name": "python",
   "nbconvert_exporter": "python",
   "pygments_lexer": "ipython3",
   "version": "3.9.12"
  }
 },
 "nbformat": 4,
 "nbformat_minor": 2
}
